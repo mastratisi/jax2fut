{
 "cells": [
  {
   "cell_type": "code",
   "execution_count": 1,
   "metadata": {},
   "outputs": [
    {
     "name": "stdout",
     "output_type": "stream",
     "text": [
      "let my_f (temp0: i32, temp1: i32) =\n",
      "  let temp2 = (i32.+) temp0 temp1\n",
      "  in temp2\n"
     ]
    }
   ],
   "source": [
    "import futhark_printer as fp\n",
    "import jax\n",
    "import jax.numpy as jnp\n",
    "\n",
    "jax.config.update(\"jax_enable_x64\", True)\n",
    "\n",
    "\n",
    "def f(x, y):\n",
    "    return x + y\n",
    "\n",
    "\n",
    "x0 = jnp.ones((), jnp.int32)\n",
    "y0 = jnp.ones((), jnp.int32)\n",
    "cj = jax.make_jaxpr(f)(x0, y0)\n",
    "# print(cj)\n",
    "\n",
    "fn = fp.jaxpr_to_futhark_ast(cj, name=\"my_f\")\n",
    "print(fp.print_function(fn))\n"
   ]
  },
  {
   "cell_type": "code",
   "execution_count": 2,
   "metadata": {},
   "outputs": [
    {
     "name": "stdout",
     "output_type": "stream",
     "text": [
      "temp.fut\n"
     ]
    },
    {
     "data": {
      "text/plain": [
       "CompletedProcess(args=['futhark', 'c', '-o', 'prog', 'temp.fut'], returncode=0)"
      ]
     },
     "execution_count": 2,
     "metadata": {},
     "output_type": "execute_result"
    }
   ],
   "source": [
    "import subprocess\n",
    "import futhark_printer\n",
    "\n",
    "# 1) Generate Futhark code\n",
    "src = futhark_printer.print_function(fn)\n",
    "\n",
    "# 2) Write to a temp file\n",
    "with open(\"temp.fut\", \"w\") as f:\n",
    "    f.write(src)\n",
    "    print(\"temp.fut\")\n",
    "\n",
    "\n",
    "# If you installed futhark locally:\n",
    "subprocess.run([\"futhark\", \"c\", \"-o\", \"prog\", \"temp.fut\"], check=True)\n"
   ]
  }
 ],
 "metadata": {
  "kernelspec": {
   "display_name": "Python 3",
   "language": "python",
   "name": "python3"
  },
  "language_info": {
   "codemirror_mode": {
    "name": "ipython",
    "version": 3
   },
   "file_extension": ".py",
   "mimetype": "text/x-python",
   "name": "python",
   "nbconvert_exporter": "python",
   "pygments_lexer": "ipython3",
   "version": "3.9.6"
  }
 },
 "nbformat": 4,
 "nbformat_minor": 2
}
