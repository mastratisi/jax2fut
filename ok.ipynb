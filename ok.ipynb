{
 "cells": [
  {
   "cell_type": "code",
   "execution_count": 4,
   "metadata": {},
   "outputs": [
    {
     "name": "stdout",
     "output_type": "stream",
     "text": [
      "{ lambda ; a:f32[3]. let b:f32[] = reduce_sum[axes=(0,)] a in (b,) }\n",
      "21\n"
     ]
    },
    {
     "ename": "IndexError",
     "evalue": "list index out of range",
     "output_type": "error",
     "traceback": [
      "\u001b[0;31m---------------------------------------------------------------------------\u001b[0m",
      "\u001b[0;31mIndexError\u001b[0m                                Traceback (most recent call last)",
      "Cell \u001b[0;32mIn[4], line 16\u001b[0m\n\u001b[1;32m     13\u001b[0m \u001b[38;5;66;03m# print(expr.eqns[0].primitive)\u001b[39;00m\n\u001b[1;32m     14\u001b[0m \u001b[38;5;66;03m# print(expr.eqns[0].params)\u001b[39;00m\n\u001b[1;32m     15\u001b[0m \u001b[38;5;28mprint\u001b[39m(expr\u001b[38;5;241m.\u001b[39meqns[\u001b[38;5;241m0\u001b[39m]\u001b[38;5;241m.\u001b[39minvars[\u001b[38;5;241m0\u001b[39m]\u001b[38;5;241m.\u001b[39mcount)\n\u001b[0;32m---> 16\u001b[0m \u001b[38;5;28mprint\u001b[39m(\u001b[43mexpr\u001b[49m\u001b[38;5;241;43m.\u001b[39;49m\u001b[43meqns\u001b[49m\u001b[43m[\u001b[49m\u001b[38;5;241;43m1\u001b[39;49m\u001b[43m]\u001b[49m\u001b[38;5;241m.\u001b[39minvars[\u001b[38;5;241m1\u001b[39m]\u001b[38;5;241m.\u001b[39mcount)\n\u001b[1;32m     17\u001b[0m \u001b[38;5;28mprint\u001b[39m(\u001b[38;5;28mtype\u001b[39m(expr\u001b[38;5;241m.\u001b[39meqns[\u001b[38;5;241m2\u001b[39m]\u001b[38;5;241m.\u001b[39minvars[\u001b[38;5;241m1\u001b[39m]\u001b[38;5;241m.\u001b[39mval))\n\u001b[1;32m     18\u001b[0m \u001b[38;5;28mprint\u001b[39m(\u001b[38;5;28mtype\u001b[39m(expr\u001b[38;5;241m.\u001b[39meqns[\u001b[38;5;241m2\u001b[39m]\u001b[38;5;241m.\u001b[39minvars[\u001b[38;5;241m1\u001b[39m]\u001b[38;5;241m.\u001b[39maval))\n",
      "\u001b[0;31mIndexError\u001b[0m: list index out of range"
     ]
    }
   ],
   "source": [
    "import jax.numpy as jnp\n",
    "import jax\n",
    "\n",
    "\n",
    "def f(x):\n",
    "    return jnp.sum(x)\n",
    "\n",
    "\n",
    "expr = jax.make_jaxpr(f)(jnp.array([1.0, 1.0, 2.0]))\n",
    "# print(expr)\n",
    "print(expr)\n",
    "\n",
    "# print(expr.eqns[0].primitive)\n",
    "# print(expr.eqns[0].params)\n",
    "print(expr.eqns[0].invars[0].count)\n",
    "print(expr.eqns[1].invars[1].count)\n",
    "print(type(expr.eqns[2].invars[1].val))\n",
    "print(type(expr.eqns[2].invars[1].aval))"
   ]
  },
  {
   "cell_type": "code",
   "execution_count": null,
   "metadata": {},
   "outputs": [],
   "source": []
  },
  {
   "cell_type": "code",
   "execution_count": null,
   "metadata": {},
   "outputs": [],
   "source": []
  },
  {
   "cell_type": "code",
   "execution_count": null,
   "metadata": {},
   "outputs": [],
   "source": []
  }
 ],
 "metadata": {
  "kernelspec": {
   "display_name": "Python 3",
   "language": "python",
   "name": "python3"
  },
  "language_info": {
   "codemirror_mode": {
    "name": "ipython",
    "version": 3
   },
   "file_extension": ".py",
   "mimetype": "text/x-python",
   "name": "python",
   "nbconvert_exporter": "python",
   "pygments_lexer": "ipython3",
   "version": "3.9.6"
  }
 },
 "nbformat": 4,
 "nbformat_minor": 2
}
